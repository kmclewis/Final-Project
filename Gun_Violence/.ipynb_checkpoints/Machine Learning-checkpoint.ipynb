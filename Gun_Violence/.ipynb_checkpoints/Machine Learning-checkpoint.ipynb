{
 "cells": [
  {
   "cell_type": "code",
   "execution_count": 1,
   "metadata": {},
   "outputs": [],
   "source": [
    "# importing dependencies\n",
    "import pandas as pd\n",
    "import numpy\n",
    "from pandas import DataFrame\n",
    "import csv\n",
    "import matplotlib.pyplot as plt\n",
    "import numpy as np"
   ]
  },
  {
   "cell_type": "code",
   "execution_count": 2,
   "metadata": {},
   "outputs": [],
   "source": [
    "# reading in the csv file\n",
    "original = pd.read_csv('gun-violence-data.csv')"
   ]
  },
  {
   "cell_type": "code",
   "execution_count": 3,
   "metadata": {},
   "outputs": [
    {
     "data": {
      "text/html": [
       "<div>\n",
       "<style scoped>\n",
       "    .dataframe tbody tr th:only-of-type {\n",
       "        vertical-align: middle;\n",
       "    }\n",
       "\n",
       "    .dataframe tbody tr th {\n",
       "        vertical-align: top;\n",
       "    }\n",
       "\n",
       "    .dataframe thead th {\n",
       "        text-align: right;\n",
       "    }\n",
       "</style>\n",
       "<table border=\"1\" class=\"dataframe\">\n",
       "  <thead>\n",
       "    <tr style=\"text-align: right;\">\n",
       "      <th></th>\n",
       "      <th>incident_id</th>\n",
       "      <th>date</th>\n",
       "      <th>state</th>\n",
       "      <th>city_or_county</th>\n",
       "      <th>address</th>\n",
       "      <th>n_killed</th>\n",
       "      <th>n_injured</th>\n",
       "      <th>incident_url</th>\n",
       "      <th>source_url</th>\n",
       "      <th>incident_url_fields_missing</th>\n",
       "      <th>...</th>\n",
       "      <th>participant_age</th>\n",
       "      <th>participant_age_group</th>\n",
       "      <th>participant_gender</th>\n",
       "      <th>participant_name</th>\n",
       "      <th>participant_relationship</th>\n",
       "      <th>participant_status</th>\n",
       "      <th>participant_type</th>\n",
       "      <th>sources</th>\n",
       "      <th>state_house_district</th>\n",
       "      <th>state_senate_district</th>\n",
       "    </tr>\n",
       "  </thead>\n",
       "  <tbody>\n",
       "  </tbody>\n",
       "</table>\n",
       "<p>0 rows × 29 columns</p>\n",
       "</div>"
      ],
      "text/plain": [
       "Empty DataFrame\n",
       "Columns: [incident_id, date, state, city_or_county, address, n_killed, n_injured, incident_url, source_url, incident_url_fields_missing, congressional_district, gun_stolen, gun_type, incident_characteristics, latitude, location_description, longitude, n_guns_involved, notes, participant_age, participant_age_group, participant_gender, participant_name, participant_relationship, participant_status, participant_type, sources, state_house_district, state_senate_district]\n",
       "Index: []\n",
       "\n",
       "[0 rows x 29 columns]"
      ]
     },
     "execution_count": 3,
     "metadata": {},
     "output_type": "execute_result"
    }
   ],
   "source": [
    "# displaying the dataframe\n",
    "original.head(0)"
   ]
  },
  {
   "cell_type": "code",
   "execution_count": 4,
   "metadata": {},
   "outputs": [
    {
     "data": {
      "text/html": [
       "<div>\n",
       "<style scoped>\n",
       "    .dataframe tbody tr th:only-of-type {\n",
       "        vertical-align: middle;\n",
       "    }\n",
       "\n",
       "    .dataframe tbody tr th {\n",
       "        vertical-align: top;\n",
       "    }\n",
       "\n",
       "    .dataframe thead th {\n",
       "        text-align: right;\n",
       "    }\n",
       "</style>\n",
       "<table border=\"1\" class=\"dataframe\">\n",
       "  <thead>\n",
       "    <tr style=\"text-align: right;\">\n",
       "      <th></th>\n",
       "      <th>incident_id</th>\n",
       "      <th>date</th>\n",
       "      <th>state</th>\n",
       "      <th>city_or_county</th>\n",
       "      <th>n_killed</th>\n",
       "      <th>n_injured</th>\n",
       "      <th>congressional_district</th>\n",
       "      <th>gun_stolen</th>\n",
       "      <th>gun_type</th>\n",
       "      <th>incident_characteristics</th>\n",
       "      <th>...</th>\n",
       "      <th>notes</th>\n",
       "      <th>participant_age</th>\n",
       "      <th>participant_age_group</th>\n",
       "      <th>participant_gender</th>\n",
       "      <th>participant_name</th>\n",
       "      <th>participant_relationship</th>\n",
       "      <th>participant_status</th>\n",
       "      <th>participant_type</th>\n",
       "      <th>state_house_district</th>\n",
       "      <th>state_senate_district</th>\n",
       "    </tr>\n",
       "  </thead>\n",
       "  <tbody>\n",
       "  </tbody>\n",
       "</table>\n",
       "<p>0 rows × 24 columns</p>\n",
       "</div>"
      ],
      "text/plain": [
       "Empty DataFrame\n",
       "Columns: [incident_id, date, state, city_or_county, n_killed, n_injured, congressional_district, gun_stolen, gun_type, incident_characteristics, latitude, location_description, longitude, n_guns_involved, notes, participant_age, participant_age_group, participant_gender, participant_name, participant_relationship, participant_status, participant_type, state_house_district, state_senate_district]\n",
       "Index: []\n",
       "\n",
       "[0 rows x 24 columns]"
      ]
     },
     "execution_count": 4,
     "metadata": {},
     "output_type": "execute_result"
    }
   ],
   "source": [
    "# dropping unnecessary columns\n",
    "df = original.drop(['incident_url','source_url',\n",
    "                    'incident_url_fields_missing',\n",
    "                    'sources','address'], axis = 1)\n",
    "df.head(0)"
   ]
  },
  {
   "cell_type": "markdown",
   "metadata": {},
   "source": [
    "####   The next 12 lines of code are counting the instances of specific text and placing those values in new columns.  The \n",
    "####   original data had multiple values per incident in one column.  For instance: if an incident included three participants, the \n",
    "####   column for participant_age_group would include 0::Adult 18+||1::Adult 18+||2::Adult 18+.  Instead, there will be a 3 under \n",
    "####   the column 'adults' ."
   ]
  },
  {
   "cell_type": "code",
   "execution_count": 5,
   "metadata": {},
   "outputs": [],
   "source": [
    "df['gun stolen'] = df['gun_stolen'].str.count('Stolen')"
   ]
  },
  {
   "cell_type": "code",
   "execution_count": 6,
   "metadata": {},
   "outputs": [],
   "source": [
    "df['gun not stolen'] = df['gun_stolen'].str.count('Not-stolen')"
   ]
  },
  {
   "cell_type": "code",
   "execution_count": 7,
   "metadata": {},
   "outputs": [],
   "source": [
    "df['female participants'] = df['participant_gender'].str.count('Female')"
   ]
  },
  {
   "cell_type": "code",
   "execution_count": 8,
   "metadata": {},
   "outputs": [],
   "source": [
    "df['male participants'] = df['participant_gender'].str.count('Male')"
   ]
  },
  {
   "cell_type": "code",
   "execution_count": 9,
   "metadata": {},
   "outputs": [],
   "source": [
    "df['arrested'] = df['participant_status'].str.count('Arrested')"
   ]
  },
  {
   "cell_type": "code",
   "execution_count": 10,
   "metadata": {},
   "outputs": [],
   "source": [
    "df['unharmed'] = df['participant_status'].str.count('Unharmed')"
   ]
  },
  {
   "cell_type": "code",
   "execution_count": 11,
   "metadata": {},
   "outputs": [],
   "source": [
    "df['unharmed/arrested'] = df['participant_status'].str.count('Unharmed, Arrested')"
   ]
  },
  {
   "cell_type": "code",
   "execution_count": 12,
   "metadata": {},
   "outputs": [],
   "source": [
    "df['victims'] = df['participant_type'].str.count('Victim')"
   ]
  },
  {
   "cell_type": "code",
   "execution_count": 13,
   "metadata": {},
   "outputs": [],
   "source": [
    "df['subject/suspect'] = df['participant_type'].str.count('Subject-Suspect')"
   ]
  },
  {
   "cell_type": "code",
   "execution_count": 14,
   "metadata": {},
   "outputs": [],
   "source": [
    "df['children'] = df['participant_age_group'].str.count('Child 0-11')"
   ]
  },
  {
   "cell_type": "code",
   "execution_count": 15,
   "metadata": {},
   "outputs": [],
   "source": [
    "df['teens'] = df['participant_age_group'].str.count('Teen 12-17')"
   ]
  },
  {
   "cell_type": "code",
   "execution_count": 16,
   "metadata": {},
   "outputs": [
    {
     "data": {
      "text/html": [
       "<div>\n",
       "<style scoped>\n",
       "    .dataframe tbody tr th:only-of-type {\n",
       "        vertical-align: middle;\n",
       "    }\n",
       "\n",
       "    .dataframe tbody tr th {\n",
       "        vertical-align: top;\n",
       "    }\n",
       "\n",
       "    .dataframe thead th {\n",
       "        text-align: right;\n",
       "    }\n",
       "</style>\n",
       "<table border=\"1\" class=\"dataframe\">\n",
       "  <thead>\n",
       "    <tr style=\"text-align: right;\">\n",
       "      <th></th>\n",
       "      <th>incident_id</th>\n",
       "      <th>date</th>\n",
       "      <th>state</th>\n",
       "      <th>city_or_county</th>\n",
       "      <th>n_killed</th>\n",
       "      <th>n_injured</th>\n",
       "      <th>congressional_district</th>\n",
       "      <th>gun_stolen</th>\n",
       "      <th>gun_type</th>\n",
       "      <th>incident_characteristics</th>\n",
       "      <th>...</th>\n",
       "      <th>female participants</th>\n",
       "      <th>male participants</th>\n",
       "      <th>arrested</th>\n",
       "      <th>unharmed</th>\n",
       "      <th>unharmed/arrested</th>\n",
       "      <th>victims</th>\n",
       "      <th>subject/suspect</th>\n",
       "      <th>children</th>\n",
       "      <th>teens</th>\n",
       "      <th>adults</th>\n",
       "    </tr>\n",
       "  </thead>\n",
       "  <tbody>\n",
       "  </tbody>\n",
       "</table>\n",
       "<p>0 rows × 36 columns</p>\n",
       "</div>"
      ],
      "text/plain": [
       "Empty DataFrame\n",
       "Columns: [incident_id, date, state, city_or_county, n_killed, n_injured, congressional_district, gun_stolen, gun_type, incident_characteristics, latitude, location_description, longitude, n_guns_involved, notes, participant_age, participant_age_group, participant_gender, participant_name, participant_relationship, participant_status, participant_type, state_house_district, state_senate_district, gun stolen, gun not stolen, female participants, male participants, arrested, unharmed, unharmed/arrested, victims, subject/suspect, children, teens, adults]\n",
       "Index: []\n",
       "\n",
       "[0 rows x 36 columns]"
      ]
     },
     "execution_count": 16,
     "metadata": {},
     "output_type": "execute_result"
    }
   ],
   "source": [
    "df['adults'] = df['participant_age_group'].str.count('Adult 18+')\n",
    "df.head(0)"
   ]
  },
  {
   "cell_type": "code",
   "execution_count": 17,
   "metadata": {},
   "outputs": [],
   "source": [
    "# replacing NaN values with a blank\n",
    "replaced_na = df.fillna('')"
   ]
  },
  {
   "cell_type": "code",
   "execution_count": 18,
   "metadata": {},
   "outputs": [],
   "source": [
    "# dropping additional unnecessary columns and the columns where data was split out into new columns\n",
    "cleaned_df = replaced_na.drop(['participant_age','participant_age_group',\n",
    "                               'participant_gender','participant_name','participant_relationship',\n",
    "                              'participant_status','participant_type','gun_stolen','notes'], axis = 1)"
   ]
  },
  {
   "cell_type": "code",
   "execution_count": 19,
   "metadata": {},
   "outputs": [
    {
     "data": {
      "text/html": [
       "<div>\n",
       "<style scoped>\n",
       "    .dataframe tbody tr th:only-of-type {\n",
       "        vertical-align: middle;\n",
       "    }\n",
       "\n",
       "    .dataframe tbody tr th {\n",
       "        vertical-align: top;\n",
       "    }\n",
       "\n",
       "    .dataframe thead th {\n",
       "        text-align: right;\n",
       "    }\n",
       "</style>\n",
       "<table border=\"1\" class=\"dataframe\">\n",
       "  <thead>\n",
       "    <tr style=\"text-align: right;\">\n",
       "      <th></th>\n",
       "      <th>incident_id</th>\n",
       "      <th>date</th>\n",
       "      <th>state</th>\n",
       "      <th>city_or_county</th>\n",
       "      <th>n_killed</th>\n",
       "      <th>n_injured</th>\n",
       "      <th>congressional_district</th>\n",
       "      <th>gun_type</th>\n",
       "      <th>incident_characteristics</th>\n",
       "      <th>latitude</th>\n",
       "      <th>...</th>\n",
       "      <th>female participants</th>\n",
       "      <th>male participants</th>\n",
       "      <th>arrested</th>\n",
       "      <th>unharmed</th>\n",
       "      <th>unharmed/arrested</th>\n",
       "      <th>victims</th>\n",
       "      <th>subject/suspect</th>\n",
       "      <th>children</th>\n",
       "      <th>teens</th>\n",
       "      <th>adults</th>\n",
       "    </tr>\n",
       "  </thead>\n",
       "  <tbody>\n",
       "  </tbody>\n",
       "</table>\n",
       "<p>0 rows × 27 columns</p>\n",
       "</div>"
      ],
      "text/plain": [
       "Empty DataFrame\n",
       "Columns: [incident_id, date, state, city_or_county, n_killed, n_injured, congressional_district, gun_type, incident_characteristics, latitude, location_description, longitude, n_guns_involved, state_house_district, state_senate_district, gun stolen, gun not stolen, female participants, male participants, arrested, unharmed, unharmed/arrested, victims, subject/suspect, children, teens, adults]\n",
       "Index: []\n",
       "\n",
       "[0 rows x 27 columns]"
      ]
     },
     "execution_count": 19,
     "metadata": {},
     "output_type": "execute_result"
    }
   ],
   "source": [
    "cleaned_df.head(0)"
   ]
  },
  {
   "cell_type": "code",
   "execution_count": 20,
   "metadata": {},
   "outputs": [],
   "source": [
    "# converting date column to datetime format\n",
    "cleaned_df['date'] = pd.to_datetime(cleaned_df['date'])"
   ]
  },
  {
   "cell_type": "code",
   "execution_count": 21,
   "metadata": {},
   "outputs": [
    {
     "name": "stdout",
     "output_type": "stream",
     "text": [
      "24863\n"
     ]
    }
   ],
   "source": [
    "# displaying the number of blank rows\n",
    "c = (cleaned_df['victims'] == '').sum()\n",
    "print(c)    "
   ]
  },
  {
   "cell_type": "code",
   "execution_count": 22,
   "metadata": {
    "scrolled": false
   },
   "outputs": [],
   "source": [
    "# filtering - Removing 2013 and 2018 values and removing incidents in which there were no victims\n",
    "filtered_df = cleaned_df[(cleaned_df['date'] > '2013-12-31') & (cleaned_df['date'] < '2018-01-01') \n",
    "                         & (cleaned_df['victims'] != \"\")& (cleaned_df['victims']!= 0)]"
   ]
  },
  {
   "cell_type": "code",
   "execution_count": 23,
   "metadata": {},
   "outputs": [
    {
     "data": {
      "text/html": [
       "<div>\n",
       "<style scoped>\n",
       "    .dataframe tbody tr th:only-of-type {\n",
       "        vertical-align: middle;\n",
       "    }\n",
       "\n",
       "    .dataframe tbody tr th {\n",
       "        vertical-align: top;\n",
       "    }\n",
       "\n",
       "    .dataframe thead th {\n",
       "        text-align: right;\n",
       "    }\n",
       "</style>\n",
       "<table border=\"1\" class=\"dataframe\">\n",
       "  <thead>\n",
       "    <tr style=\"text-align: right;\">\n",
       "      <th></th>\n",
       "      <th>incident_id</th>\n",
       "      <th>date</th>\n",
       "      <th>state</th>\n",
       "      <th>city_or_county</th>\n",
       "      <th>n_killed</th>\n",
       "      <th>n_injured</th>\n",
       "      <th>congressional_district</th>\n",
       "      <th>gun_type</th>\n",
       "      <th>incident_characteristics</th>\n",
       "      <th>latitude</th>\n",
       "      <th>...</th>\n",
       "      <th>female participants</th>\n",
       "      <th>male participants</th>\n",
       "      <th>arrested</th>\n",
       "      <th>unharmed</th>\n",
       "      <th>unharmed/arrested</th>\n",
       "      <th>victims</th>\n",
       "      <th>subject/suspect</th>\n",
       "      <th>children</th>\n",
       "      <th>teens</th>\n",
       "      <th>adults</th>\n",
       "    </tr>\n",
       "  </thead>\n",
       "  <tbody>\n",
       "  </tbody>\n",
       "</table>\n",
       "<p>0 rows × 27 columns</p>\n",
       "</div>"
      ],
      "text/plain": [
       "Empty DataFrame\n",
       "Columns: [incident_id, date, state, city_or_county, n_killed, n_injured, congressional_district, gun_type, incident_characteristics, latitude, location_description, longitude, n_guns_involved, state_house_district, state_senate_district, gun stolen, gun not stolen, female participants, male participants, arrested, unharmed, unharmed/arrested, victims, subject/suspect, children, teens, adults]\n",
       "Index: []\n",
       "\n",
       "[0 rows x 27 columns]"
      ]
     },
     "execution_count": 23,
     "metadata": {},
     "output_type": "execute_result"
    }
   ],
   "source": [
    "filtered_df.head(0)"
   ]
  },
  {
   "cell_type": "code",
   "execution_count": 24,
   "metadata": {},
   "outputs": [],
   "source": [
    "# df = pd.DataFrame(filtered_df)\n",
    "# data = pd.DataFrame(df[['date','victims']])\n",
    "# data.head()"
   ]
  },
  {
   "cell_type": "code",
   "execution_count": 25,
   "metadata": {},
   "outputs": [],
   "source": [
    "df = pd.DataFrame(filtered_df)\n",
    "victims = df['victims'].tolist()"
   ]
  },
  {
   "cell_type": "code",
   "execution_count": 26,
   "metadata": {},
   "outputs": [],
   "source": [
    "data = pd.DataFrame({'value' : victims}, index=pd.DatetimeIndex(df['date']))"
   ]
  },
  {
   "cell_type": "code",
   "execution_count": 27,
   "metadata": {},
   "outputs": [
    {
     "data": {
      "text/html": [
       "<div>\n",
       "<style scoped>\n",
       "    .dataframe tbody tr th:only-of-type {\n",
       "        vertical-align: middle;\n",
       "    }\n",
       "\n",
       "    .dataframe tbody tr th {\n",
       "        vertical-align: top;\n",
       "    }\n",
       "\n",
       "    .dataframe thead th {\n",
       "        text-align: right;\n",
       "    }\n",
       "</style>\n",
       "<table border=\"1\" class=\"dataframe\">\n",
       "  <thead>\n",
       "    <tr style=\"text-align: right;\">\n",
       "      <th></th>\n",
       "      <th>value</th>\n",
       "    </tr>\n",
       "    <tr>\n",
       "      <th>date</th>\n",
       "      <th></th>\n",
       "    </tr>\n",
       "  </thead>\n",
       "  <tbody>\n",
       "    <tr>\n",
       "      <th>2014-01-01</th>\n",
       "      <td>1.0</td>\n",
       "    </tr>\n",
       "    <tr>\n",
       "      <th>2014-01-01</th>\n",
       "      <td>1.0</td>\n",
       "    </tr>\n",
       "    <tr>\n",
       "      <th>2014-01-01</th>\n",
       "      <td>1.0</td>\n",
       "    </tr>\n",
       "    <tr>\n",
       "      <th>2014-01-01</th>\n",
       "      <td>1.0</td>\n",
       "    </tr>\n",
       "    <tr>\n",
       "      <th>2014-01-01</th>\n",
       "      <td>1.0</td>\n",
       "    </tr>\n",
       "  </tbody>\n",
       "</table>\n",
       "</div>"
      ],
      "text/plain": [
       "            value\n",
       "date             \n",
       "2014-01-01    1.0\n",
       "2014-01-01    1.0\n",
       "2014-01-01    1.0\n",
       "2014-01-01    1.0\n",
       "2014-01-01    1.0"
      ]
     },
     "execution_count": 27,
     "metadata": {},
     "output_type": "execute_result"
    }
   ],
   "source": [
    "data.head()"
   ]
  },
  {
   "cell_type": "code",
   "execution_count": 28,
   "metadata": {},
   "outputs": [],
   "source": [
    "data['value'] = data['value'].astype(np.int64)"
   ]
  },
  {
   "cell_type": "code",
   "execution_count": 29,
   "metadata": {},
   "outputs": [],
   "source": [
    "# df = pd.DataFrame(data.value, index=pd.DatetimeIndex(data['date']))"
   ]
  },
  {
   "cell_type": "code",
   "execution_count": 30,
   "metadata": {},
   "outputs": [
    {
     "data": {
      "text/plain": [
       "value    int64\n",
       "dtype: object"
      ]
     },
     "execution_count": 30,
     "metadata": {},
     "output_type": "execute_result"
    }
   ],
   "source": [
    "data.dtypes"
   ]
  },
  {
   "cell_type": "code",
   "execution_count": 31,
   "metadata": {},
   "outputs": [],
   "source": [
    "# data.pivot_table(index='date',values='victims',aggfunc='sum').plot()"
   ]
  },
  {
   "cell_type": "code",
   "execution_count": 32,
   "metadata": {},
   "outputs": [],
   "source": [
    "# data.pivot_table(data, index=data.index,values='victims',aggfunc='sum').plot()"
   ]
  },
  {
   "cell_type": "code",
   "execution_count": 33,
   "metadata": {},
   "outputs": [],
   "source": [
    "pv = pd.pivot_table(data, index=data.index.month, columns=data.index.year,\n",
    "                    values='value', aggfunc='sum')"
   ]
  },
  {
   "cell_type": "code",
   "execution_count": 34,
   "metadata": {},
   "outputs": [
    {
     "data": {
      "text/html": [
       "<div>\n",
       "<style scoped>\n",
       "    .dataframe tbody tr th:only-of-type {\n",
       "        vertical-align: middle;\n",
       "    }\n",
       "\n",
       "    .dataframe tbody tr th {\n",
       "        vertical-align: top;\n",
       "    }\n",
       "\n",
       "    .dataframe thead th {\n",
       "        text-align: right;\n",
       "    }\n",
       "</style>\n",
       "<table border=\"1\" class=\"dataframe\">\n",
       "  <thead>\n",
       "    <tr style=\"text-align: right;\">\n",
       "      <th>date</th>\n",
       "      <th>2014</th>\n",
       "      <th>2015</th>\n",
       "      <th>2016</th>\n",
       "      <th>2017</th>\n",
       "    </tr>\n",
       "    <tr>\n",
       "      <th>date</th>\n",
       "      <th></th>\n",
       "      <th></th>\n",
       "      <th></th>\n",
       "      <th></th>\n",
       "    </tr>\n",
       "  </thead>\n",
       "  <tbody>\n",
       "    <tr>\n",
       "      <th>1</th>\n",
       "      <td>4010</td>\n",
       "      <td>3040</td>\n",
       "      <td>3616</td>\n",
       "      <td>3864</td>\n",
       "    </tr>\n",
       "    <tr>\n",
       "      <th>2</th>\n",
       "      <td>2803</td>\n",
       "      <td>2297</td>\n",
       "      <td>2942</td>\n",
       "      <td>3124</td>\n",
       "    </tr>\n",
       "    <tr>\n",
       "      <th>3</th>\n",
       "      <td>3495</td>\n",
       "      <td>3295</td>\n",
       "      <td>3721</td>\n",
       "      <td>3262</td>\n",
       "    </tr>\n",
       "    <tr>\n",
       "      <th>4</th>\n",
       "      <td>3546</td>\n",
       "      <td>3371</td>\n",
       "      <td>3610</td>\n",
       "      <td>3696</td>\n",
       "    </tr>\n",
       "    <tr>\n",
       "      <th>5</th>\n",
       "      <td>4317</td>\n",
       "      <td>4086</td>\n",
       "      <td>3973</td>\n",
       "      <td>3910</td>\n",
       "    </tr>\n",
       "    <tr>\n",
       "      <th>6</th>\n",
       "      <td>4375</td>\n",
       "      <td>3751</td>\n",
       "      <td>3874</td>\n",
       "      <td>3828</td>\n",
       "    </tr>\n",
       "    <tr>\n",
       "      <th>7</th>\n",
       "      <td>5274</td>\n",
       "      <td>4148</td>\n",
       "      <td>4407</td>\n",
       "      <td>4219</td>\n",
       "    </tr>\n",
       "    <tr>\n",
       "      <th>8</th>\n",
       "      <td>5318</td>\n",
       "      <td>4144</td>\n",
       "      <td>4499</td>\n",
       "      <td>3845</td>\n",
       "    </tr>\n",
       "    <tr>\n",
       "      <th>9</th>\n",
       "      <td>4935</td>\n",
       "      <td>3841</td>\n",
       "      <td>3963</td>\n",
       "      <td>3616</td>\n",
       "    </tr>\n",
       "    <tr>\n",
       "      <th>10</th>\n",
       "      <td>4696</td>\n",
       "      <td>3580</td>\n",
       "      <td>4190</td>\n",
       "      <td>3862</td>\n",
       "    </tr>\n",
       "    <tr>\n",
       "      <th>11</th>\n",
       "      <td>3608</td>\n",
       "      <td>3450</td>\n",
       "      <td>4002</td>\n",
       "      <td>3461</td>\n",
       "    </tr>\n",
       "    <tr>\n",
       "      <th>12</th>\n",
       "      <td>3071</td>\n",
       "      <td>3635</td>\n",
       "      <td>3884</td>\n",
       "      <td>3255</td>\n",
       "    </tr>\n",
       "  </tbody>\n",
       "</table>\n",
       "</div>"
      ],
      "text/plain": [
       "date  2014  2015  2016  2017\n",
       "date                        \n",
       "1     4010  3040  3616  3864\n",
       "2     2803  2297  2942  3124\n",
       "3     3495  3295  3721  3262\n",
       "4     3546  3371  3610  3696\n",
       "5     4317  4086  3973  3910\n",
       "6     4375  3751  3874  3828\n",
       "7     5274  4148  4407  4219\n",
       "8     5318  4144  4499  3845\n",
       "9     4935  3841  3963  3616\n",
       "10    4696  3580  4190  3862\n",
       "11    3608  3450  4002  3461\n",
       "12    3071  3635  3884  3255"
      ]
     },
     "execution_count": 34,
     "metadata": {},
     "output_type": "execute_result"
    }
   ],
   "source": [
    "pv = pd.DataFrame(pv)\n",
    "pv"
   ]
  },
  {
   "cell_type": "code",
   "execution_count": 35,
   "metadata": {},
   "outputs": [
    {
     "data": {
      "text/plain": [
       "<matplotlib.axes._subplots.AxesSubplot at 0x208f21c24e0>"
      ]
     },
     "execution_count": 35,
     "metadata": {},
     "output_type": "execute_result"
    },
    {
     "data": {
      "image/png": "[encoded data removed]",
      "text/plain": [
       "<Figure size 1152x360 with 1 Axes>"
      ]
     },
     "metadata": {
      "needs_background": "light"
     },
     "output_type": "display_data"
    }
   ],
   "source": [
    "from matplotlib.pyplot import figure\n",
    "pv.plot(figsize=(16,5))"
   ]
  },
  {
   "cell_type": "code",
   "execution_count": 36,
   "metadata": {
    "scrolled": true
   },
   "outputs": [],
   "source": [
    "df['date'] = pd.to_datetime(df.date,format='%Y-%m-%d')"
   ]
  },
  {
   "cell_type": "code",
   "execution_count": 37,
   "metadata": {},
   "outputs": [
    {
     "data": {
      "text/html": [
       "<div>\n",
       "<style scoped>\n",
       "    .dataframe tbody tr th:only-of-type {\n",
       "        vertical-align: middle;\n",
       "    }\n",
       "\n",
       "    .dataframe tbody tr th {\n",
       "        vertical-align: top;\n",
       "    }\n",
       "\n",
       "    .dataframe thead th {\n",
       "        text-align: right;\n",
       "    }\n",
       "</style>\n",
       "<table border=\"1\" class=\"dataframe\">\n",
       "  <thead>\n",
       "    <tr style=\"text-align: right;\">\n",
       "      <th></th>\n",
       "      <th>value</th>\n",
       "    </tr>\n",
       "  </thead>\n",
       "  <tbody>\n",
       "    <tr>\n",
       "      <th>count</th>\n",
       "      <td>1461.000000</td>\n",
       "    </tr>\n",
       "    <tr>\n",
       "      <th>mean</th>\n",
       "      <td>125.057495</td>\n",
       "    </tr>\n",
       "    <tr>\n",
       "      <th>std</th>\n",
       "      <td>30.621230</td>\n",
       "    </tr>\n",
       "    <tr>\n",
       "      <th>min</th>\n",
       "      <td>0.000000</td>\n",
       "    </tr>\n",
       "    <tr>\n",
       "      <th>25%</th>\n",
       "      <td>104.000000</td>\n",
       "    </tr>\n",
       "    <tr>\n",
       "      <th>50%</th>\n",
       "      <td>121.000000</td>\n",
       "    </tr>\n",
       "    <tr>\n",
       "      <th>75%</th>\n",
       "      <td>143.000000</td>\n",
       "    </tr>\n",
       "    <tr>\n",
       "      <th>max</th>\n",
       "      <td>250.000000</td>\n",
       "    </tr>\n",
       "  </tbody>\n",
       "</table>\n",
       "</div>"
      ],
      "text/plain": [
       "             value\n",
       "count  1461.000000\n",
       "mean    125.057495\n",
       "std      30.621230\n",
       "min       0.000000\n",
       "25%     104.000000\n",
       "50%     121.000000\n",
       "75%     143.000000\n",
       "max     250.000000"
      ]
     },
     "execution_count": 37,
     "metadata": {},
     "output_type": "execute_result"
    }
   ],
   "source": [
    "new_df = data.resample('D').apply({'value':'sum'})\n",
    "new_df.describe()"
   ]
  },
  {
   "cell_type": "code",
   "execution_count": 38,
   "metadata": {},
   "outputs": [],
   "source": [
    "new_df = new_df.reset_index()"
   ]
  },
  {
   "cell_type": "code",
   "execution_count": 39,
   "metadata": {},
   "outputs": [
    {
     "data": {
      "text/plain": [
       "date     datetime64[ns]\n",
       "value             int64\n",
       "dtype: object"
      ]
     },
     "execution_count": 39,
     "metadata": {},
     "output_type": "execute_result"
    }
   ],
   "source": [
    "new_df.dtypes"
   ]
  },
  {
   "cell_type": "code",
   "execution_count": 40,
   "metadata": {},
   "outputs": [],
   "source": [
    "# data_2014 = new_df[(new_df['date'] >= \"2014-01-01\") & (new_df['date'] <= \"2014-12-31\")]\n",
    "# data_2015 = new_df[(new_df['date'] >= \"2015-01-01\") & (new_df['date'] <= \"2015-12-31\")]\n",
    "# data_2016 = new_df[(new_df['date'] >= \"2016-01-01\") & (new_df['date'] <= \"2016-12-31\")]\n",
    "# data_2017 = new_df[(new_df['date'] >= \"2017-01-01\") & (new_df['date'] <= \"2017-12-31\")]"
   ]
  },
  {
   "cell_type": "code",
   "execution_count": 41,
   "metadata": {},
   "outputs": [],
   "source": [
    "# %matplotlib inline\n",
    "\n",
    "# setting figure size\n",
    "# from matplotlib.pylab import rcParams\n",
    "# rcParams['figure.figsize'] = 20,10\n",
    "\n",
    "# #for normalizing data\n",
    "# from sklearn.preprocessing import MinMaxScaler\n",
    "# scaler = MinMaxScaler(feature_range=(0, 1))"
   ]
  },
  {
   "cell_type": "code",
   "execution_count": 42,
   "metadata": {},
   "outputs": [],
   "source": [
    "# #plot\n",
    "# plt.figure(figsize=(30,12))\n",
    "# plt.plot(data_2014['value'], label='Close Price history')\n",
    "# plt.plot(data_2015['value'])\n",
    "# plt.plot(data_2016['value'])\n",
    "# plt.plot(data_2017['value'])"
   ]
  },
  {
   "cell_type": "code",
   "execution_count": 43,
   "metadata": {},
   "outputs": [
    {
     "name": "stderr",
     "output_type": "stream",
     "text": [
      "Using TensorFlow backend.\n"
     ]
    },
    {
     "name": "stdout",
     "output_type": "stream",
     "text": [
      "WARNING:tensorflow:From C:\\Users\\kmcle\\Anaconda3\\lib\\site-packages\\tensorflow\\python\\framework\\op_def_library.py:263: colocate_with (from tensorflow.python.framework.ops) is deprecated and will be removed in a future version.\n",
      "Instructions for updating:\n",
      "Colocations handled automatically by placer.\n"
     ]
    },
    {
     "name": "stderr",
     "output_type": "stream",
     "text": [
      "C:\\Users\\kmcle\\Anaconda3\\lib\\site-packages\\sklearn\\utils\\validation.py:475: DataConversionWarning: Data with input dtype object was converted to float64 by MinMaxScaler.\n",
      "  warnings.warn(msg, DataConversionWarning)\n"
     ]
    },
    {
     "name": "stdout",
     "output_type": "stream",
     "text": [
      "WARNING:tensorflow:From C:\\Users\\kmcle\\Anaconda3\\lib\\site-packages\\tensorflow\\python\\ops\\math_ops.py:3066: to_int32 (from tensorflow.python.ops.math_ops) is deprecated and will be removed in a future version.\n",
      "Instructions for updating:\n",
      "Use tf.cast instead.\n",
      "Epoch 1/14\n",
      " - 46s - loss: 0.0141\n",
      "Epoch 2/14\n",
      " - 45s - loss: 0.0130\n",
      "Epoch 3/14\n",
      " - 46s - loss: 0.0114\n",
      "Epoch 4/14\n",
      " - 46s - loss: 0.0101\n",
      "Epoch 5/14\n",
      " - 46s - loss: 0.0090\n",
      "Epoch 6/14\n",
      " - 47s - loss: 0.0095\n",
      "Epoch 7/14\n",
      " - 46s - loss: 0.0093\n",
      "Epoch 8/14\n",
      " - 46s - loss: 0.0086\n",
      "Epoch 9/14\n",
      " - 46s - loss: 0.0087\n",
      "Epoch 10/14\n",
      " - 46s - loss: 0.0085\n",
      "Epoch 11/14\n",
      " - 47s - loss: 0.0084\n",
      "Epoch 12/14\n",
      " - 46s - loss: 0.0082\n",
      "Epoch 13/14\n",
      " - 46s - loss: 0.0081\n",
      "Epoch 14/14\n",
      " - 47s - loss: 0.0080\n"
     ]
    }
   ],
   "source": [
    "#importing required libraries\n",
    "from sklearn.preprocessing import MinMaxScaler\n",
    "from keras.models import Sequential\n",
    "from keras.layers import Dense, Dropout, LSTM\n",
    "\n",
    "#creating dataframe\n",
    "data = new_df.sort_index(ascending=True, axis=0)\n",
    "new_data = pd.DataFrame(index=range(0,len(new_df)),columns=['date', 'value'])\n",
    "for i in range(0,len(data)):\n",
    "    new_data['date'][i] = data['date'][i]\n",
    "    new_data['value'][i] = data['value'][i]\n",
    "\n",
    "#setting index\n",
    "new_data.index = new_data.date\n",
    "new_data.drop('date', axis=1, inplace=True)\n",
    "\n",
    "#creating train and test sets\n",
    "dataset = new_data.values\n",
    "\n",
    "train = dataset[0:1096,:]\n",
    "valid = dataset[1096:,:]\n",
    "\n",
    "#converting dataset into x_train and y_train\n",
    "scaler = MinMaxScaler(feature_range=(0, 1))\n",
    "scaled_data = scaler.fit_transform(dataset)\n",
    "\n",
    "x_train, y_train = [], []\n",
    "for i in range(90,len(train)):\n",
    "    x_train.append(scaled_data[i-90:i,0])\n",
    "    y_train.append(scaled_data[i,0])\n",
    "x_train, y_train = np.array(x_train), np.array(y_train)\n",
    "\n",
    "x_train = np.reshape(x_train, (x_train.shape[0],x_train.shape[1],1))\n",
    "\n",
    "# create and fit the LSTM network\n",
    "model = Sequential()\n",
    "model.add(LSTM(units=50, return_sequences=True, input_shape=(x_train.shape[1],1)))\n",
    "model.add(LSTM(units=50))\n",
    "model.add(Dense(1))\n",
    "\n",
    "model.compile(loss='mean_squared_error', optimizer='adam')\n",
    "model.fit(x_train, y_train, epochs=14, batch_size=1, verbose=2)\n",
    "\n",
    "#predicting 365 values, using past 90 from the train data\n",
    "inputs = new_data[len(new_data) - len(valid) - 90:].values\n",
    "inputs = inputs.reshape(-1,1)\n",
    "inputs  = scaler.transform(inputs)\n",
    "\n",
    "X_test = []\n",
    "for i in range(90,inputs.shape[0]):\n",
    "    X_test.append(inputs[i-90:i,0])\n",
    "X_test = np.array(X_test)\n",
    "\n",
    "X_test = np.reshape(X_test, (X_test.shape[0],X_test.shape[1],1))\n",
    "predicted_victims = model.predict(X_test)\n",
    "predicted_victims = scaler.inverse_transform(predicted_victims)\n"
   ]
  },
  {
   "cell_type": "code",
   "execution_count": 44,
   "metadata": {},
   "outputs": [
    {
     "data": {
      "text/plain": [
       "22.573392046845363"
      ]
     },
     "execution_count": 44,
     "metadata": {},
     "output_type": "execute_result"
    }
   ],
   "source": [
    "rms=np.sqrt(np.mean(np.power((valid-predicted_victims),2)))\n",
    "rms"
   ]
  },
  {
   "cell_type": "code",
   "execution_count": 45,
   "metadata": {},
   "outputs": [
    {
     "name": "stderr",
     "output_type": "stream",
     "text": [
      "C:\\Users\\kmcle\\Anaconda3\\lib\\site-packages\\ipykernel_launcher.py:4: SettingWithCopyWarning: \n",
      "A value is trying to be set on a copy of a slice from a DataFrame.\n",
      "Try using .loc[row_indexer,col_indexer] = value instead\n",
      "\n",
      "See the caveats in the documentation: http://pandas.pydata.org/pandas-docs/stable/indexing.html#indexing-view-versus-copy\n",
      "  after removing the cwd from sys.path.\n"
     ]
    },
    {
     "data": {
      "text/plain": [
       "[<matplotlib.lines.Line2D at 0x2088b765198>,\n",
       " <matplotlib.lines.Line2D at 0x2088b7652b0>]"
      ]
     },
     "execution_count": 45,
     "metadata": {},
     "output_type": "execute_result"
    },
    {
     "data": {
      "image/png": "[encoded data removed]",
      "text/plain": [
       "<Figure size 432x288 with 1 Axes>"
      ]
     },
     "metadata": {
      "needs_background": "light"
     },
     "output_type": "display_data"
    }
   ],
   "source": [
    "#for plotting\n",
    "train = new_data[:1096]\n",
    "valid = new_data[1096:]\n",
    "valid['Predictions'] = predicted_victims\n",
    "plt.plot(train['value'])\n",
    "plt.plot(valid[['value','Predictions']])"
   ]
  },
  {
   "cell_type": "code",
   "execution_count": 46,
   "metadata": {},
   "outputs": [
    {
     "name": "stdout",
     "output_type": "stream",
     "text": [
      "           value  Predictions\n",
      "date                         \n",
      "2017-01-01   244   142.335571\n",
      "2017-01-02   145   153.715820\n",
      "2017-01-03   143   125.763412\n",
      "2017-01-04    97   125.934753\n",
      "2017-01-05    78   117.099968\n",
      "2017-01-06    96   127.294334\n",
      "2017-01-07   107   160.497772\n",
      "2017-01-08   115   160.555756\n",
      "2017-01-09   106   127.306984\n",
      "2017-01-10   121   110.903862\n",
      "2017-01-11   123   108.679207\n",
      "2017-01-12   130   111.484810\n",
      "2017-01-13   123   130.334305\n",
      "2017-01-14   148   150.201492\n",
      "2017-01-15   145   152.522278\n",
      "2017-01-16   169   125.549080\n",
      "2017-01-17   120   120.155487\n",
      "2017-01-18   122   109.424309\n",
      "2017-01-19   108   111.039536\n",
      "2017-01-20   118   120.225403\n",
      "2017-01-21   164   145.017883\n",
      "2017-01-22   140   162.665802\n",
      "2017-01-23   115   128.940140\n",
      "2017-01-24     0   114.781364\n",
      "2017-01-25   114    88.200111\n",
      "2017-01-26   114   102.916405\n",
      "2017-01-27   130   135.194977\n",
      "2017-01-28   154   152.688919\n",
      "2017-01-29   137   129.534134\n",
      "2017-01-30   123   108.311966\n",
      "...          ...          ...\n",
      "2017-12-02   135   144.862762\n",
      "2017-12-03   135   130.368469\n",
      "2017-12-04    91   107.439102\n",
      "2017-12-05    93    95.841125\n",
      "2017-12-06    92    92.947128\n",
      "2017-12-07    87   101.279869\n",
      "2017-12-08    88   125.548782\n",
      "2017-12-09   112   137.893524\n",
      "2017-12-10   129   120.520416\n",
      "2017-12-11   123    99.694633\n",
      "2017-12-12    90    93.561363\n",
      "2017-12-13   107    88.187668\n",
      "2017-12-14    79    96.056046\n",
      "2017-12-15    89   111.080139\n",
      "2017-12-16   133   133.170212\n",
      "2017-12-17   116   133.089645\n",
      "2017-12-18    89    96.462692\n",
      "2017-12-19   137    84.924057\n",
      "2017-12-20    98    92.247421\n",
      "2017-12-21   107    94.078224\n",
      "2017-12-22   123   113.085777\n",
      "2017-12-23   131   137.753769\n",
      "2017-12-24   110   132.941498\n",
      "2017-12-25    86   106.608566\n",
      "2017-12-26   108    93.998001\n",
      "2017-12-27    78    96.311295\n",
      "2017-12-28    94    97.959015\n",
      "2017-12-29    73   115.456406\n",
      "2017-12-30    97   118.442268\n",
      "2017-12-31   121   114.901840\n",
      "\n",
      "[365 rows x 2 columns]\n"
     ]
    }
   ],
   "source": [
    "print(valid[['value','Predictions']])"
   ]
  },
  {
   "cell_type": "code",
   "execution_count": 47,
   "metadata": {},
   "outputs": [],
   "source": [
    "predicted_df = pd.DataFrame(valid)"
   ]
  },
  {
   "cell_type": "code",
   "execution_count": 48,
   "metadata": {},
   "outputs": [],
   "source": [
    "predicted_df = predicted_df.reset_index()"
   ]
  },
  {
   "cell_type": "code",
   "execution_count": 49,
   "metadata": {},
   "outputs": [
    {
     "data": {
      "text/plain": [
       "date           datetime64[ns]\n",
       "value                  object\n",
       "Predictions           float32\n",
       "dtype: object"
      ]
     },
     "execution_count": 49,
     "metadata": {},
     "output_type": "execute_result"
    }
   ],
   "source": [
    "predicted_df.dtypes"
   ]
  },
  {
   "cell_type": "code",
   "execution_count": 50,
   "metadata": {},
   "outputs": [],
   "source": [
    "predicted_df.rename(columns={'Predictions':'2017 Predicted',\n",
    "}, \n",
    "                 inplace=True)"
   ]
  },
  {
   "cell_type": "code",
   "execution_count": 51,
   "metadata": {},
   "outputs": [
    {
     "data": {
      "text/plain": [
       "date              datetime64[ns]\n",
       "value                     object\n",
       "2017 Predicted           float32\n",
       "dtype: object"
      ]
     },
     "execution_count": 51,
     "metadata": {},
     "output_type": "execute_result"
    }
   ],
   "source": [
    "predicted_df.dtypes"
   ]
  },
  {
   "cell_type": "code",
   "execution_count": 52,
   "metadata": {},
   "outputs": [],
   "source": [
    "predicted_df['2017 Predicted'] = predicted_df['2017 Predicted'].astype(np.int64)"
   ]
  },
  {
   "cell_type": "code",
   "execution_count": 53,
   "metadata": {},
   "outputs": [
    {
     "data": {
      "text/html": [
       "<div>\n",
       "<style scoped>\n",
       "    .dataframe tbody tr th:only-of-type {\n",
       "        vertical-align: middle;\n",
       "    }\n",
       "\n",
       "    .dataframe tbody tr th {\n",
       "        vertical-align: top;\n",
       "    }\n",
       "\n",
       "    .dataframe thead th {\n",
       "        text-align: right;\n",
       "    }\n",
       "</style>\n",
       "<table border=\"1\" class=\"dataframe\">\n",
       "  <thead>\n",
       "    <tr style=\"text-align: right;\">\n",
       "      <th></th>\n",
       "      <th>date</th>\n",
       "      <th>value</th>\n",
       "      <th>2017 Predicted</th>\n",
       "    </tr>\n",
       "  </thead>\n",
       "  <tbody>\n",
       "    <tr>\n",
       "      <th>0</th>\n",
       "      <td>2017-01-01</td>\n",
       "      <td>244</td>\n",
       "      <td>142</td>\n",
       "    </tr>\n",
       "    <tr>\n",
       "      <th>1</th>\n",
       "      <td>2017-01-02</td>\n",
       "      <td>145</td>\n",
       "      <td>153</td>\n",
       "    </tr>\n",
       "    <tr>\n",
       "      <th>2</th>\n",
       "      <td>2017-01-03</td>\n",
       "      <td>143</td>\n",
       "      <td>125</td>\n",
       "    </tr>\n",
       "    <tr>\n",
       "      <th>3</th>\n",
       "      <td>2017-01-04</td>\n",
       "      <td>97</td>\n",
       "      <td>125</td>\n",
       "    </tr>\n",
       "    <tr>\n",
       "      <th>4</th>\n",
       "      <td>2017-01-05</td>\n",
       "      <td>78</td>\n",
       "      <td>117</td>\n",
       "    </tr>\n",
       "  </tbody>\n",
       "</table>\n",
       "</div>"
      ],
      "text/plain": [
       "        date value  2017 Predicted\n",
       "0 2017-01-01   244             142\n",
       "1 2017-01-02   145             153\n",
       "2 2017-01-03   143             125\n",
       "3 2017-01-04    97             125\n",
       "4 2017-01-05    78             117"
      ]
     },
     "execution_count": 53,
     "metadata": {},
     "output_type": "execute_result"
    }
   ],
   "source": [
    "predicted_df.head()"
   ]
  },
  {
   "cell_type": "code",
   "execution_count": 54,
   "metadata": {},
   "outputs": [],
   "source": [
    "# predicted_df = predicted_df.drop(['value'], axis=1)"
   ]
  },
  {
   "cell_type": "code",
   "execution_count": 55,
   "metadata": {},
   "outputs": [],
   "source": [
    "predicted_df['date'] = pd.to_datetime(predicted_df['date'])"
   ]
  },
  {
   "cell_type": "code",
   "execution_count": 56,
   "metadata": {},
   "outputs": [
    {
     "data": {
      "text/html": [
       "<div>\n",
       "<style scoped>\n",
       "    .dataframe tbody tr th:only-of-type {\n",
       "        vertical-align: middle;\n",
       "    }\n",
       "\n",
       "    .dataframe tbody tr th {\n",
       "        vertical-align: top;\n",
       "    }\n",
       "\n",
       "    .dataframe thead th {\n",
       "        text-align: right;\n",
       "    }\n",
       "</style>\n",
       "<table border=\"1\" class=\"dataframe\">\n",
       "  <thead>\n",
       "    <tr style=\"text-align: right;\">\n",
       "      <th></th>\n",
       "      <th>date</th>\n",
       "      <th>value</th>\n",
       "      <th>2017 Predicted</th>\n",
       "    </tr>\n",
       "  </thead>\n",
       "  <tbody>\n",
       "    <tr>\n",
       "      <th>0</th>\n",
       "      <td>2017-01-01</td>\n",
       "      <td>244</td>\n",
       "      <td>142</td>\n",
       "    </tr>\n",
       "    <tr>\n",
       "      <th>1</th>\n",
       "      <td>2017-01-02</td>\n",
       "      <td>145</td>\n",
       "      <td>153</td>\n",
       "    </tr>\n",
       "    <tr>\n",
       "      <th>2</th>\n",
       "      <td>2017-01-03</td>\n",
       "      <td>143</td>\n",
       "      <td>125</td>\n",
       "    </tr>\n",
       "    <tr>\n",
       "      <th>3</th>\n",
       "      <td>2017-01-04</td>\n",
       "      <td>97</td>\n",
       "      <td>125</td>\n",
       "    </tr>\n",
       "    <tr>\n",
       "      <th>4</th>\n",
       "      <td>2017-01-05</td>\n",
       "      <td>78</td>\n",
       "      <td>117</td>\n",
       "    </tr>\n",
       "  </tbody>\n",
       "</table>\n",
       "</div>"
      ],
      "text/plain": [
       "        date value  2017 Predicted\n",
       "0 2017-01-01   244             142\n",
       "1 2017-01-02   145             153\n",
       "2 2017-01-03   143             125\n",
       "3 2017-01-04    97             125\n",
       "4 2017-01-05    78             117"
      ]
     },
     "execution_count": 56,
     "metadata": {},
     "output_type": "execute_result"
    }
   ],
   "source": [
    "predicted_df.head()"
   ]
  },
  {
   "cell_type": "code",
   "execution_count": 57,
   "metadata": {},
   "outputs": [],
   "source": [
    "predicted_df = predicted_df.set_index(pd.DatetimeIndex(predicted_df['date']))"
   ]
  },
  {
   "cell_type": "code",
   "execution_count": 58,
   "metadata": {},
   "outputs": [],
   "source": [
    "df1 = pd.pivot_table(predicted_df, index=predicted_df.index.month, columns=predicted_df.index.year,\n",
    "                    values = 'value' , aggfunc='sum')"
   ]
  },
  {
   "cell_type": "code",
   "execution_count": 59,
   "metadata": {},
   "outputs": [],
   "source": [
    "df2 = pd.pivot_table(predicted_df, index=predicted_df.index.month, columns=predicted_df.index.year,\n",
    "                    values = '2017 Predicted' , aggfunc='sum')"
   ]
  },
  {
   "cell_type": "code",
   "execution_count": 60,
   "metadata": {},
   "outputs": [
    {
     "data": {
      "text/html": [
       "<div>\n",
       "<style scoped>\n",
       "    .dataframe tbody tr th:only-of-type {\n",
       "        vertical-align: middle;\n",
       "    }\n",
       "\n",
       "    .dataframe tbody tr th {\n",
       "        vertical-align: top;\n",
       "    }\n",
       "\n",
       "    .dataframe thead th {\n",
       "        text-align: right;\n",
       "    }\n",
       "</style>\n",
       "<table border=\"1\" class=\"dataframe\">\n",
       "  <thead>\n",
       "    <tr style=\"text-align: right;\">\n",
       "      <th>date</th>\n",
       "      <th>2014</th>\n",
       "      <th>2015</th>\n",
       "      <th>2016</th>\n",
       "      <th>2017</th>\n",
       "      <th>2017</th>\n",
       "    </tr>\n",
       "    <tr>\n",
       "      <th>date</th>\n",
       "      <th></th>\n",
       "      <th></th>\n",
       "      <th></th>\n",
       "      <th></th>\n",
       "      <th></th>\n",
       "    </tr>\n",
       "  </thead>\n",
       "  <tbody>\n",
       "    <tr>\n",
       "      <th>1</th>\n",
       "      <td>4010</td>\n",
       "      <td>3040</td>\n",
       "      <td>3616</td>\n",
       "      <td>3864</td>\n",
       "      <td>3949</td>\n",
       "    </tr>\n",
       "    <tr>\n",
       "      <th>2</th>\n",
       "      <td>2803</td>\n",
       "      <td>2297</td>\n",
       "      <td>2942</td>\n",
       "      <td>3124</td>\n",
       "      <td>3251</td>\n",
       "    </tr>\n",
       "    <tr>\n",
       "      <th>3</th>\n",
       "      <td>3495</td>\n",
       "      <td>3295</td>\n",
       "      <td>3721</td>\n",
       "      <td>3262</td>\n",
       "      <td>3176</td>\n",
       "    </tr>\n",
       "    <tr>\n",
       "      <th>4</th>\n",
       "      <td>3546</td>\n",
       "      <td>3371</td>\n",
       "      <td>3610</td>\n",
       "      <td>3696</td>\n",
       "      <td>3774</td>\n",
       "    </tr>\n",
       "    <tr>\n",
       "      <th>5</th>\n",
       "      <td>4317</td>\n",
       "      <td>4086</td>\n",
       "      <td>3973</td>\n",
       "      <td>3910</td>\n",
       "      <td>3782</td>\n",
       "    </tr>\n",
       "    <tr>\n",
       "      <th>6</th>\n",
       "      <td>4375</td>\n",
       "      <td>3751</td>\n",
       "      <td>3874</td>\n",
       "      <td>3828</td>\n",
       "      <td>3955</td>\n",
       "    </tr>\n",
       "    <tr>\n",
       "      <th>7</th>\n",
       "      <td>5274</td>\n",
       "      <td>4148</td>\n",
       "      <td>4407</td>\n",
       "      <td>4219</td>\n",
       "      <td>4226</td>\n",
       "    </tr>\n",
       "    <tr>\n",
       "      <th>8</th>\n",
       "      <td>5318</td>\n",
       "      <td>4144</td>\n",
       "      <td>4499</td>\n",
       "      <td>3845</td>\n",
       "      <td>3887</td>\n",
       "    </tr>\n",
       "    <tr>\n",
       "      <th>9</th>\n",
       "      <td>4935</td>\n",
       "      <td>3841</td>\n",
       "      <td>3963</td>\n",
       "      <td>3616</td>\n",
       "      <td>3600</td>\n",
       "    </tr>\n",
       "    <tr>\n",
       "      <th>10</th>\n",
       "      <td>4696</td>\n",
       "      <td>3580</td>\n",
       "      <td>4190</td>\n",
       "      <td>3862</td>\n",
       "      <td>3892</td>\n",
       "    </tr>\n",
       "    <tr>\n",
       "      <th>11</th>\n",
       "      <td>3608</td>\n",
       "      <td>3450</td>\n",
       "      <td>4002</td>\n",
       "      <td>3461</td>\n",
       "      <td>3578</td>\n",
       "    </tr>\n",
       "    <tr>\n",
       "      <th>12</th>\n",
       "      <td>3071</td>\n",
       "      <td>3635</td>\n",
       "      <td>3884</td>\n",
       "      <td>3255</td>\n",
       "      <td>3420</td>\n",
       "    </tr>\n",
       "  </tbody>\n",
       "</table>\n",
       "</div>"
      ],
      "text/plain": [
       "date  2014  2015  2016  2017  2017\n",
       "date                              \n",
       "1     4010  3040  3616  3864  3949\n",
       "2     2803  2297  2942  3124  3251\n",
       "3     3495  3295  3721  3262  3176\n",
       "4     3546  3371  3610  3696  3774\n",
       "5     4317  4086  3973  3910  3782\n",
       "6     4375  3751  3874  3828  3955\n",
       "7     5274  4148  4407  4219  4226\n",
       "8     5318  4144  4499  3845  3887\n",
       "9     4935  3841  3963  3616  3600\n",
       "10    4696  3580  4190  3862  3892\n",
       "11    3608  3450  4002  3461  3578\n",
       "12    3071  3635  3884  3255  3420"
      ]
     },
     "execution_count": 60,
     "metadata": {},
     "output_type": "execute_result"
    }
   ],
   "source": [
    "df3 = pd.concat((pv, df2), axis=1)\n",
    "df3"
   ]
  },
  {
   "cell_type": "code",
   "execution_count": 61,
   "metadata": {},
   "outputs": [
    {
     "data": {
      "text/html": [
       "<div>\n",
       "<style scoped>\n",
       "    .dataframe tbody tr th:only-of-type {\n",
       "        vertical-align: middle;\n",
       "    }\n",
       "\n",
       "    .dataframe tbody tr th {\n",
       "        vertical-align: top;\n",
       "    }\n",
       "\n",
       "    .dataframe thead th {\n",
       "        text-align: right;\n",
       "    }\n",
       "</style>\n",
       "<table border=\"1\" class=\"dataframe\">\n",
       "  <thead>\n",
       "    <tr style=\"text-align: right;\">\n",
       "      <th>date</th>\n",
       "      <th>2017</th>\n",
       "      <th>2017</th>\n",
       "    </tr>\n",
       "    <tr>\n",
       "      <th>date</th>\n",
       "      <th></th>\n",
       "      <th></th>\n",
       "    </tr>\n",
       "  </thead>\n",
       "  <tbody>\n",
       "    <tr>\n",
       "      <th>1</th>\n",
       "      <td>3864</td>\n",
       "      <td>3949</td>\n",
       "    </tr>\n",
       "    <tr>\n",
       "      <th>2</th>\n",
       "      <td>3124</td>\n",
       "      <td>3251</td>\n",
       "    </tr>\n",
       "    <tr>\n",
       "      <th>3</th>\n",
       "      <td>3262</td>\n",
       "      <td>3176</td>\n",
       "    </tr>\n",
       "    <tr>\n",
       "      <th>4</th>\n",
       "      <td>3696</td>\n",
       "      <td>3774</td>\n",
       "    </tr>\n",
       "    <tr>\n",
       "      <th>5</th>\n",
       "      <td>3910</td>\n",
       "      <td>3782</td>\n",
       "    </tr>\n",
       "    <tr>\n",
       "      <th>6</th>\n",
       "      <td>3828</td>\n",
       "      <td>3955</td>\n",
       "    </tr>\n",
       "    <tr>\n",
       "      <th>7</th>\n",
       "      <td>4219</td>\n",
       "      <td>4226</td>\n",
       "    </tr>\n",
       "    <tr>\n",
       "      <th>8</th>\n",
       "      <td>3845</td>\n",
       "      <td>3887</td>\n",
       "    </tr>\n",
       "    <tr>\n",
       "      <th>9</th>\n",
       "      <td>3616</td>\n",
       "      <td>3600</td>\n",
       "    </tr>\n",
       "    <tr>\n",
       "      <th>10</th>\n",
       "      <td>3862</td>\n",
       "      <td>3892</td>\n",
       "    </tr>\n",
       "    <tr>\n",
       "      <th>11</th>\n",
       "      <td>3461</td>\n",
       "      <td>3578</td>\n",
       "    </tr>\n",
       "    <tr>\n",
       "      <th>12</th>\n",
       "      <td>3255</td>\n",
       "      <td>3420</td>\n",
       "    </tr>\n",
       "  </tbody>\n",
       "</table>\n",
       "</div>"
      ],
      "text/plain": [
       "date  2017  2017\n",
       "date            \n",
       "1     3864  3949\n",
       "2     3124  3251\n",
       "3     3262  3176\n",
       "4     3696  3774\n",
       "5     3910  3782\n",
       "6     3828  3955\n",
       "7     4219  4226\n",
       "8     3845  3887\n",
       "9     3616  3600\n",
       "10    3862  3892\n",
       "11    3461  3578\n",
       "12    3255  3420"
      ]
     },
     "execution_count": 61,
     "metadata": {},
     "output_type": "execute_result"
    }
   ],
   "source": [
    "df4 = pd.concat((df1, df2), axis = 1)\n",
    "df4"
   ]
  },
  {
   "cell_type": "code",
   "execution_count": 62,
   "metadata": {},
   "outputs": [],
   "source": [
    "df3 = pd.DataFrame(df3)"
   ]
  },
  {
   "cell_type": "code",
   "execution_count": 63,
   "metadata": {},
   "outputs": [
    {
     "data": {
      "text/plain": [
       "<matplotlib.legend.Legend at 0x2088b7ead30>"
      ]
     },
     "execution_count": 63,
     "metadata": {},
     "output_type": "execute_result"
    },
    {
     "data": {
      "image/png": "[encoded data removed]",
      "text/plain": [
       "<Figure size 1152x576 with 1 Axes>"
      ]
     },
     "metadata": {
      "needs_background": "light"
     },
     "output_type": "display_data"
    }
   ],
   "source": [
    "from matplotlib.pyplot import *\n",
    "fig, ax = subplots()\n",
    "df3.plot(kind='line', ax=ax,figsize=(16,8))\n",
    "ax.legend(['2014','2015','2016','2017 actual','2017 predicted',])"
   ]
  },
  {
   "cell_type": "code",
   "execution_count": 64,
   "metadata": {},
   "outputs": [
    {
     "data": {
      "text/plain": [
       "<matplotlib.legend.Legend at 0x2088b877780>"
      ]
     },
     "execution_count": 64,
     "metadata": {},
     "output_type": "execute_result"
    },
    {
     "data": {
      "image/png": "[encoded data removed]",
      "text/plain": [
       "<Figure size 1152x576 with 1 Axes>"
      ]
     },
     "metadata": {
      "needs_background": "light"
     },
     "output_type": "display_data"
    }
   ],
   "source": [
    "from matplotlib.pyplot import *\n",
    "fig, ax = subplots()\n",
    "df4.plot(kind='line', ax=ax,figsize=(16,8))\n",
    "ax.legend(['2017 actual','2017 predicted',])"
   ]
  }
 ],
 "metadata": {
  "kernelspec": {
   "display_name": "Python 3",
   "language": "python",
   "name": "python3"
  },
  "language_info": {
   "codemirror_mode": {
    "name": "ipython",
    "version": 3
   },
   "file_extension": ".py",
   "mimetype": "text/x-python",
   "name": "python",
   "nbconvert_exporter": "python",
   "pygments_lexer": "ipython3",
   "version": "3.6.6"
  }
 },
 "nbformat": 4,
 "nbformat_minor": 2
}
